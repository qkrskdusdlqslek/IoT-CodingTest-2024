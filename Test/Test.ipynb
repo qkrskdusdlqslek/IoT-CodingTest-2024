{
 "cells": [
  {
   "cell_type": "code",
   "execution_count": 1,
   "metadata": {},
   "outputs": [],
   "source": [
    "def solution(my_string, s, e):\n",
    "    # 부분 문자열 추출\n",
    "    part = my_string[s:e+1]\n",
    "    \n",
    "    # 부분 문자열 뒤집기\n",
    "    reversed_part = part[::-1]\n",
    "    \n",
    "    # 원본 문자열에서 부분 문자열을 교체하여 최종 문자열 생성\n",
    "    answer = my_string[:s] + reversed_part + my_string[e+1:]\n",
    "    \n",
    "    return answer"
   ]
  }
 ],
 "metadata": {
  "kernelspec": {
   "display_name": "Python 3",
   "language": "python",
   "name": "python3"
  },
  "language_info": {
   "codemirror_mode": {
    "name": "ipython",
    "version": 3
   },
   "file_extension": ".py",
   "mimetype": "text/x-python",
   "name": "python",
   "nbconvert_exporter": "python",
   "pygments_lexer": "ipython3",
   "version": "3.11.5"
  }
 },
 "nbformat": 4,
 "nbformat_minor": 2
}
