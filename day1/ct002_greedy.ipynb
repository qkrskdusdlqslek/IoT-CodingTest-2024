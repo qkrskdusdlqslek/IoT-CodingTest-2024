{
 "cells": [
  {
   "cell_type": "markdown",
   "metadata": {},
   "source": [
    "### 그리디 알고리즘(탐욕법)\n",
    "- 현재 상황에서 당장 좋은 것만 선택하는 방법\n",
    "- 사전에 외우고 있지 않아도 풀 수 있는 유형의 알고리즘"
   ]
  },
  {
   "cell_type": "markdown",
   "metadata": {},
   "source": [
    "#### 예제 3-1 거스름돈\n",
    "- 카운터에 500원, 100원, 50원, 10원이 무한대로 존재\n",
    "- 손님에게 N원의 돈을 거슬러 줄 때 동전의 최소갯수(단, N은 10의 배수)"
   ]
  },
  {
   "cell_type": "code",
   "execution_count": 3,
   "metadata": {},
   "outputs": [
    {
     "name": "stdout",
     "output_type": "stream",
     "text": [
      "6\n"
     ]
    }
   ],
   "source": [
    "n = 1260 # 입력값\n",
    "count = 0 # 동전개수\n",
    "temp = 0 # 중간단계 금액\n",
    "\n",
    "coin_types = [500, 100, 50, 10] # 500원, 100원, 50원, 10원 네가지 동전\n",
    "\n",
    "for coin in coin_types: # 500부터 4번 돌면서\n",
    "    temp = n # 1260, 260\n",
    "    count += int(n / coin) # 1260/ 500 = 2, 260 / 100 = 2, 60 / 50 = 1 \n",
    "    n = n % coin # 1260 % 500 = 260, 260 % 100 = 60, 60 % 50 = 10, 10 % 10 = 0\n",
    "\n",
    "print(count)"
   ]
  },
  {
   "cell_type": "markdown",
   "metadata": {},
   "source": [
    "- 1260원에 대한 최소 동전 개수 = 6"
   ]
  },
  {
   "cell_type": "markdown",
   "metadata": {},
   "source": [
    "#### 백준의 경우"
   ]
  },
  {
   "cell_type": "code",
   "execution_count": null,
   "metadata": {},
   "outputs": [],
   "source": [
    "## 백준 5585번\n",
    "n = int(input()) ## 380, 1\n",
    "c = 1000\n",
    "count = 0\n",
    "temp = 0\n",
    "\n",
    "coin_types = [500, 100, 50, 10, 5, 1]\n",
    "# 입력된 돈으로 뺌\n",
    "c -= n\n",
    "\n",
    "for coin in coin_types: # 500부터 6번 돌면서\n",
    "    temp = c # 620, 120, 20..\n",
    "    count += int(c / coin) \n",
    "    c = c % coin \n",
    "\n",
    "print(count)"
   ]
  },
  {
   "cell_type": "markdown",
   "metadata": {},
   "source": [
    "#### 92p 예제 - 큰 수의 법칙\n",
    "- 배열에 들어있는 수를 M번 더하여 가장 큰 수를 만든다. 단, 같은 수가 K번 이상 반복될 수 없음\n",
    "- 배열 N(2 <= N <= 1000), 더하기 횟수 M(1 <= M <= 10000), 반복 가능수 K(1 <=K <= 10000)\n",
    "- 둘째 줄에 N의 자연수 배열 입력, 구분 공백으로\n",
    "- 입력으로 주어진 K는 항상 M보다 작음"
   ]
  },
  {
   "cell_type": "code",
   "execution_count": 11,
   "metadata": {},
   "outputs": [
    {
     "name": "stdout",
     "output_type": "stream",
     "text": [
      "28\n"
     ]
    }
   ],
   "source": [
    "## n, m, k를 공백으로 구분하여 입력받는다\n",
    "n, m, k = map(int, input().split())\n",
    "# n개의 배열값을 입력\n",
    "data = list(map(int, input().split()))\n",
    "\n",
    "## 내림차순으로 정렬\n",
    "data.sort(reverse=True)\n",
    "upper = data[0] # 6\n",
    "middle = data[1] # 5\n",
    "result = 0\n",
    "\n",
    "while True:\n",
    "    for i in range(k): # 가장 큰 수를 k번 더한다\n",
    "        if m == 0: # 더하기횟수를 다 쓰면\n",
    "            break\n",
    "        else:\n",
    "            result += upper\n",
    "            m -= 1 # 더할때마다 1씩 빼줌\n",
    "    if m == 0:\n",
    "        break\n",
    "    else:\n",
    "        result += middle\n",
    "        m -= 1 # 더할때마다 1씩 빼줌\n",
    "\n",
    "print(result)"
   ]
  },
  {
   "cell_type": "code",
   "execution_count": 12,
   "metadata": {},
   "outputs": [
    {
     "data": {
      "text/plain": [
       "2"
      ]
     },
     "execution_count": 12,
     "metadata": {},
     "output_type": "execute_result"
    }
   ],
   "source": [
    "len(\"1924\") - 2"
   ]
  },
  {
   "cell_type": "code",
   "execution_count": 13,
   "metadata": {},
   "outputs": [
    {
     "data": {
      "text/plain": [
       "['1', '9', '2', '4']"
      ]
     },
     "execution_count": 13,
     "metadata": {},
     "output_type": "execute_result"
    }
   ],
   "source": [
    "list('1924')"
   ]
  },
  {
   "cell_type": "code",
   "execution_count": 15,
   "metadata": {},
   "outputs": [],
   "source": [
    "number = \"1924\"\n",
    "k = 2"
   ]
  },
  {
   "cell_type": "code",
   "execution_count": 16,
   "metadata": {},
   "outputs": [],
   "source": [
    "def solution(number, k):\n",
    "    answer = []\n",
    "\n",
    "    for num in number:\n",
    "        print(num)\n",
    "    return answer"
   ]
  },
  {
   "cell_type": "code",
   "execution_count": 17,
   "metadata": {},
   "outputs": [
    {
     "name": "stdout",
     "output_type": "stream",
     "text": [
      "1\n",
      "9\n",
      "2\n",
      "4\n",
      "[]\n"
     ]
    }
   ],
   "source": [
    "print(solution(number=number, k=k))"
   ]
  },
  {
   "cell_type": "markdown",
   "metadata": {},
   "source": [
    "#### 99p 1이 될 때까지\n",
    "- 어떤 수 N이 1이 될 때까지\n",
    "    - N에서 1을 뺌\n",
    "    - N을 K로 나눔\n",
    "\n",
    "- N=17, K = 4\n",
    "    - 4를 네번빼면 1이 됨\n",
    "    - 17 - 1 = 16/ 4 = 4/4 -> 3\n",
    "    \n",
    "- N = 25, K = 5 -> 2\n",
    "- N = 25, K = 3 -> 6\n",
    "\n",
    "- 문제풀이\n",
    "    - N이 K의 배수가 될 때까지 1씩 뺌\n",
    "    - N이 K의 배수가 되면 나누기\n",
    "    - 반복"
   ]
  },
  {
   "cell_type": "code",
   "execution_count": 18,
   "metadata": {},
   "outputs": [
    {
     "name": "stdout",
     "output_type": "stream",
     "text": [
      "6\n"
     ]
    }
   ],
   "source": [
    "## n, k를 입력\n",
    "n, k = map(int, input().split())\n",
    "count = 0\n",
    "\n",
    "while True:\n",
    "    if n == 1: break ## 값이 1이 되면 끝!\n",
    "\n",
    "    if n % k == 0: # n의 값이 k의 배수이면\n",
    "        n = int(n / k)\n",
    "        count += 1\n",
    "    else: # n의 값이 k의 배수가 아니면 1빼면 됨\n",
    "        n -= 1\n",
    "        count += 1\n",
    "\n",
    "print(count)"
   ]
  },
  {
   "cell_type": "markdown",
   "metadata": {},
   "source": [
    "#### 백준 1463번 - 1로 만들기\n",
    "- x를 3으로 나눠지면 나누기\n",
    "- x가 2로 나눠지면 나누기\n",
    "- 아니면 1빼기\n",
    "\n",
    "- 그리디 문제 아니었음 -> 동적프로그래밍(DP) 문제였음\n",
    "- 문제를 풀다가 답이 똑같이 안나오면 알고리즘을 바꿔야 함"
   ]
  },
  {
   "cell_type": "code",
   "execution_count": null,
   "metadata": {},
   "outputs": [],
   "source": [
    "## x를 입력\n",
    "x = int(input())\n",
    "count = 0\n",
    "\n",
    "while True:\n",
    "    if x == 1: break\n",
    "\n",
    "    if x % 3 == 0: \n",
    "        x = int(x / 3)\n",
    "        count += 1\n",
    "    elif x % 2 == 0:\n",
    "        x = int(x / 2)\n",
    "        count += 1\n",
    "    else: \n",
    "        x -= 1\n",
    "        count += 1\n",
    "\n",
    "print(count)"
   ]
  }
 ],
 "metadata": {
  "kernelspec": {
   "display_name": "Python 3",
   "language": "python",
   "name": "python3"
  },
  "language_info": {
   "codemirror_mode": {
    "name": "ipython",
    "version": 3
   },
   "file_extension": ".py",
   "mimetype": "text/x-python",
   "name": "python",
   "nbconvert_exporter": "python",
   "pygments_lexer": "ipython3",
   "version": "3.11.5"
  }
 },
 "nbformat": 4,
 "nbformat_minor": 2
}
